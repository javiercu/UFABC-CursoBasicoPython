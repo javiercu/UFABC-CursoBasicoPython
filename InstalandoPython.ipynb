{
 "cells": [
  {
   "cell_type": "markdown",
   "metadata": {},
   "source": [
    "A seguir são mostrados alguns passos para a instalação do Python nos sistemas operacionais Windows e Linux\n",
    "\n",
    "<h2>Instalando Python 3 - Windows</h2>\n",
    "\n",
    "<ol>\n",
    "  <li>Visite <a href=\"https://www.python.org/downloads/windows/\">https://www.python.org/downloads/windows/</a></li>\n",
    "  <li>Clique em Latest Python 3 Release</li>\n",
    "  <li>No fim da página, faça o download de Windows X86-64 executable installer</li>\n",
    "  <li>Instalar o arquivo obtido no passo 3</li>\n",
    "</ol> \n",
    "\n",
    "Assim, o Python 3 e o IDLE serão instalados.\n",
    "\n",
    "<h2>Instalando Python 3 - Linux</h2>\n",
    "\n",
    "O Python 3 já está presente nas últimas versões de usuário das distribuições mais famosas de GNU/Linux, como Ubuntu, Debian openSUSE e Fedora.\n",
    "\n",
    "Para instalar o IDLE você pode utilizar o gerenciador de pacotes da sua distribuição. Para tal, deve-se saber o nome do pacote que instala a ferramenta.\n",
    "\n",
    "<ul>\n",
    "  <li>Ubuntu/Debian/Mint: <b> sudo apt-get install idle3 </b><br></li>\n",
    "  <li>Fedora/openSUSE/CentOS: <b>sudo yum install python3-tools python3-idle</b></li>\n",
    "</ul>\n",
    "\n",
    "No curso em vários momentos vai ser usada a linha de comando (comummente chamada de prompt de comando ou terminal, dependendo do seu Sistema Operacional).\n",
    "\n"
   ]
  },
  {
   "cell_type": "markdown",
   "metadata": {},
   "source": [
    "<div class=\"row\">\n",
    "  <div class=\"col-sm-4\">Seção Anterior: <a href=\"Introducao.ipynb\"> Introdução </a></div>\n",
    "  <div class=\"col-sm-4\">Próxima Anterior: <a> Texto </a></div>  \n",
    "  <div class=\"col-sm-4\"><a href=\"../UFABC-Curso Básico Python.ipynb\"> Ir ao Índice </a></div>\n",
    "</div>\n"
   ]
  }
 ],
 "metadata": {
  "kernelspec": {
   "display_name": "Python 3",
   "language": "python",
   "name": "python3"
  },
  "language_info": {
   "codemirror_mode": {
    "name": "ipython",
    "version": 3
   },
   "file_extension": ".py",
   "mimetype": "text/x-python",
   "name": "python",
   "nbconvert_exporter": "python",
   "pygments_lexer": "ipython3",
   "version": "3.7.0"
  }
 },
 "nbformat": 4,
 "nbformat_minor": 2
}
