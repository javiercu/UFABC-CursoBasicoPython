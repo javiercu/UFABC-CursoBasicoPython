{
 "cells": [
  {
   "cell_type": "markdown",
   "metadata": {},
   "source": [
    "<h2>Variáveis em Python Conversão entre tipos de variáveis diferentes</h2>\n",
    "\n",
    "As variáveis são espaços de memoria reservada para armazenar e manipular dados. Os tipos de dados básicos em Python são:\n",
    "\n",
    "<ul>\n",
    "   <li>Tipo inteiro: Armazena número inteiros</li>\n",
    "   <li>Tipo float: Armazena números em formato decimal</li>\n",
    "   <li>Tipo string: Armazena cadeias de caracteres</li>\n",
    "   <li>Tipo boolean: Somente pode tomar como valor true(verdadeiro) ou false(falso)</li>\n",
    "</ul>\n",
    " Cada variável pode armazenar apenas um tipo de dado a cada instante.\n",
    " \n",
    "Em Python, a diferença de linguagens de programação como C, C++, Java, entre outros, não é preciso a declaração do tipo para cada varável no começo do programa. Possui o que é conhecido como tipagem dinâmica, isto é, a tipagem pode mudar a cada nova entrada de dados em uma variável. O interpretador infere o tipo dos dados que uma variável recebe, sem que seja necessário que o programador defina o tipo da variável. A seguir, o comando de atribuição tem a seguinte forma.\n",
    "\n",
    "<code>a = 5</code><br>\n",
    "Para conferir o valor associado à variável <code>a</code> <br>\n",
    "<code>a</code><br>\n",
    "Resultando em: <br>\n",
    "<code>5</code><br>\n",
    "A  variável <code>a</code> torna-se uma variável do tipo inteiro.<br>\n",
    "   \n",
    "Para conhecer o tipo de uma variável usa-se a função nativa <code>type(var)</code>.<br>\n",
    "Por exemplo:<br>\n",
    "<code>a = 5.0</code><br>\n",
    "<code>type(a)</code><br>\n",
    "Terá como saída: <code>float</code><br>\n",
    "\n",
    "A seguir, redefina a variável <code>a</code> com o valor <code>5</code>. Qual seria a saída depois de chamar <code>type(a)</code>?<br>"
   ]
  },
  {
   "cell_type": "code",
   "execution_count": null,
   "metadata": {},
   "outputs": [],
   "source": []
  },
  {
   "cell_type": "markdown",
   "metadata": {},
   "source": [
    "<code>pi = 3.14</code><br>\n",
    "<code>pi</code><br>\n",
    "<code>3.14</code><br>\n",
    "\n",
    "A variável <code>pi</code> torna-se uma variável de tipo float.<br>\n",
    "\n",
    "<code>nome = \"Joao\"</code><br>\n",
    "<code>nome</code><br>\n",
    "<code>'Joao'</code>\n",
    "\n",
    "A variável <code>nome</code> torna-se uma variável de tipo string.<br>\n",
    "\n",
    "De igual forma, se temos \n",
    "\n",
    "<code>a = 5</code><br>\n",
    "<code>b = 6</code><br>\n",
    "<code>valor = a > b</code><br>\n",
    "<code>valor</code><br>\n",
    "<code>False</code><br>\n",
    "\n",
    "A variável <code>valor</code> torna-se uma variável de tipo booleam como valor <code>False</code>.<br>\n"
   ]
  },
  {
   "cell_type": "code",
   "execution_count": null,
   "metadata": {},
   "outputs": [],
   "source": []
  },
  {
   "cell_type": "markdown",
   "metadata": {},
   "source": [
    "\n"
   ]
  },
  {
   "cell_type": "code",
   "execution_count": null,
   "metadata": {},
   "outputs": [],
   "source": []
  },
  {
   "cell_type": "code",
   "execution_count": null,
   "metadata": {},
   "outputs": [],
   "source": [
    "\n"
   ]
  },
  {
   "cell_type": "markdown",
   "metadata": {},
   "source": [
    "Na próxima seção se aborda com mais detalhes as variáveis e os tipos em python"
   ]
  },
  {
   "cell_type": "markdown",
   "metadata": {},
   "source": [
    "<div class=\"row\">\n",
    "  <div class=\"col-sm-4\">Seção Anterior: <a href=\"InstalandoPython.ipynb\"> Instalando Python </a></div>\n",
    "  <div class=\"col-sm-4\">Próxima Anterior: <a> Variáveis em Python</a></div>  \n",
    "  <div class=\"col-sm-4\"><a href=\"../UFABC-Curso Básico Python.ipynb\"> Home </a></div>\n",
    "</div>\n"
   ]
  }
 ],
 "metadata": {
  "kernelspec": {
   "display_name": "Python 3",
   "language": "python",
   "name": "python3"
  },
  "language_info": {
   "codemirror_mode": {
    "name": "ipython",
    "version": 3
   },
   "file_extension": ".py",
   "mimetype": "text/x-python",
   "name": "python",
   "nbconvert_exporter": "python",
   "pygments_lexer": "ipython3",
   "version": "3.7.0"
  }
 },
 "nbformat": 4,
 "nbformat_minor": 2
}
